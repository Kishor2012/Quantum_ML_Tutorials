{
 "cells": [
  {
   "cell_type": "markdown",
   "metadata": {},
   "source": [
    "## Computing the bond energy of molecular hydrogen"
   ]
  },
  {
   "cell_type": "code",
   "execution_count": 7,
   "metadata": {},
   "outputs": [],
   "source": [
    "from pyquil.api import get_qc\n",
    "from pyquil.quil import Program"
   ]
  },
  {
   "cell_type": "code",
   "execution_count": 8,
   "metadata": {},
   "outputs": [],
   "source": [
    "def setup_forest_objects():\n",
    "    qc = get_qc(\"9q-square-qvm\")\n",
    "    return qc\n",
    "\n",
    "\n",
    "def build_wf_ansatz_prep():\n",
    "    program = Program(\"\"\"\n",
    "# set up memory\n",
    "DECLARE ro BIT[4]\n",
    "DECLARE theta REAL\n",
    "\n",
    "# set up initial state\n",
    "X 0\n",
    "X 1\n",
    "\n",
    "# build the exponentiated operator\n",
    "RX(pi/2) 0\n",
    "H 1\n",
    "H 2\n",
    "H 3\n",
    "\n",
    "CNOT 0 1\n",
    "CNOT 1 2\n",
    "CNOT 2 3\n",
    "RZ(theta) 3\n",
    "CNOT 2 3\n",
    "CNOT 1 2\n",
    "CNOT 0 1\n",
    "\n",
    "RX(-pi/2) 0\n",
    "H 1\n",
    "H 2\n",
    "H 3\n",
    "\n",
    "# measure out the results\n",
    "MEASURE 0 ro[0]\n",
    "MEASURE 1 ro[1]\n",
    "MEASURE 2 ro[2]\n",
    "MEASURE 3 ro[3]\"\"\")\n",
    "    return program\n",
    "\n",
    "\n",
    "# some constants\n",
    "bond_step, bond_min, bond_max = 0.05, 0, 200\n",
    "angle_step, angle_min, angle_max = 0.1, 0, 63\n",
    "convolution_coefficients = [0.1698845197777728, 0.16988451977777283, -0.2188630663199042,\n",
    "                            -0.2188630663199042]\n",
    "shots = 1000\n",
    "\n",
    "# set up the Forest object\n",
    "qc = setup_forest_objects()\n",
    "\n",
    "# set up the Program object, ONLY ONCE\n",
    "program = build_wf_ansatz_prep().wrap_in_numshots_loop(shots=shots)\n",
    "binary = qc.compile(program)\n",
    "\n",
    "# get all the unweighted expectations for all the sample wavefunctions\n",
    "occupations = list(range(angle_min, angle_max))\n",
    "indices = list(range(4))\n",
    "for offset in occupations:\n",
    "    bitstrings = qc.run(binary, {'theta': [angle_min + offset * angle_step]})\n",
    "\n",
    "    totals = [0, 0, 0, 0]\n",
    "    for bitstring in bitstrings:\n",
    "        for index in indices:\n",
    "            totals[index] += bitstring[index]\n",
    "    occupations[offset] = [t / shots for t in totals]\n",
    "\n",
    "# compute minimum energy as a function of bond length\n",
    "min_energies = list(range(bond_min, bond_max))\n",
    "for bond_length in min_energies:\n",
    "    energies = []\n",
    "    for offset in range(angle_min, angle_max):\n",
    "        energy = 0\n",
    "        for j in range(4):\n",
    "            energy += occupations[offset][j] * convolution_coefficients[j]\n",
    "        energies.append(energy)\n",
    "\n",
    "    min_energies[bond_length] = min(energies)\n",
    "\n",
    "min_index = min_energies.index(min(min_energies))\n",
    "min_energy, relaxed_length = min_energies[min_index], min_index * bond_step"
   ]
  },
  {
   "cell_type": "code",
   "execution_count": 9,
   "metadata": {},
   "outputs": [
    {
     "data": {
      "text/plain": [
       "-0.43772613263980842"
      ]
     },
     "execution_count": 9,
     "metadata": {},
     "output_type": "execute_result"
    }
   ],
   "source": [
    "min_energy"
   ]
  },
  {
   "cell_type": "code",
   "execution_count": 10,
   "metadata": {},
   "outputs": [
    {
     "data": {
      "text/plain": [
       "0.0"
      ]
     },
     "execution_count": 10,
     "metadata": {},
     "output_type": "execute_result"
    }
   ],
   "source": [
    "relaxed_length"
   ]
  }
 ],
 "metadata": {
  "kernelspec": {
   "display_name": "Python 3",
   "language": "python",
   "name": "python3"
  },
  "language_info": {
   "codemirror_mode": {
    "name": "ipython",
    "version": 3
   },
   "file_extension": ".py",
   "mimetype": "text/x-python",
   "name": "python",
   "nbconvert_exporter": "python",
   "pygments_lexer": "ipython3",
   "version": "3.6.7"
  }
 },
 "nbformat": 4,
 "nbformat_minor": 2
}
