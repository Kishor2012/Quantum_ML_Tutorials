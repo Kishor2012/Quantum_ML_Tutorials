{
 "cells": [
  {
   "cell_type": "markdown",
   "metadata": {},
   "source": [
    "PyQuil is for constructing and running quantum programs on real quantum computers. With the release of pyQuil 2, we have changed parts of the API to better reflect that focus. Instead of swapping between a QVMConnection and a QPUConnection, you will primarily deal with a QuantumComputer with consistent API and behavior regardless of\n",
    "\n",
    "    QVM / QPU\n",
    "    Presence of noise model\n",
    "    Device topology\n",
    "\n"
   ]
  },
  {
   "cell_type": "code",
   "execution_count": 1,
   "metadata": {},
   "outputs": [],
   "source": [
    "from pyquil import Program\n",
    "from pyquil.gates import *"
   ]
  },
  {
   "cell_type": "code",
   "execution_count": 2,
   "metadata": {},
   "outputs": [],
   "source": [
    "def ghz_state(qubits):\n",
    "    \"\"\"Create a GHZ state on the given list of qubits by applying\n",
    "    a Hadamard gate to the first qubit followed by a chain of CNOTs\n",
    "    \"\"\"\n",
    "    program = Program()\n",
    "    program += H(qubits[0])\n",
    "    for q1, q2 in zip(qubits, qubits[1:]):\n",
    "        program += CNOT(q1, q2)\n",
    "    return program"
   ]
  },
  {
   "cell_type": "code",
   "execution_count": 3,
   "metadata": {},
   "outputs": [
    {
     "name": "stdout",
     "output_type": "stream",
     "text": [
      "H 0\n",
      "CNOT 0 1\n",
      "CNOT 1 2\n",
      "\n"
     ]
    }
   ],
   "source": [
    "program = ghz_state(qubits=[0, 1, 2])\n",
    "print(program)"
   ]
  },
  {
   "cell_type": "markdown",
   "metadata": {},
   "source": [
    "### Debugging with wavefunction simulator"
   ]
  },
  {
   "cell_type": "code",
   "execution_count": 4,
   "metadata": {},
   "outputs": [
    {
     "name": "stdout",
     "output_type": "stream",
     "text": [
      "(0.7071067812+0j)|000> + (0.7071067812+0j)|111>\n"
     ]
    }
   ],
   "source": [
    "from pyquil.api import WavefunctionSimulator\n",
    "wfn = WavefunctionSimulator().wavefunction(program)\n",
    "print(wfn)"
   ]
  },
  {
   "cell_type": "markdown",
   "metadata": {},
   "source": [
    "One can't look at the wavefunction (like above) from a real quantum computer. However, one can expect to always sample the bitstrings."
   ]
  },
  {
   "cell_type": "code",
   "execution_count": 5,
   "metadata": {},
   "outputs": [
    {
     "data": {
      "text/plain": [
       "QuantumComputer[name=\"3q-qvm\"]"
      ]
     },
     "execution_count": 5,
     "metadata": {},
     "output_type": "execute_result"
    }
   ],
   "source": [
    "from pyquil import get_qc\n",
    "qc = get_qc('3q-qvm')\n",
    "qc"
   ]
  },
  {
   "cell_type": "code",
   "execution_count": 6,
   "metadata": {},
   "outputs": [
    {
     "data": {
      "text/plain": [
       "[0, 1, 2]"
      ]
     },
     "execution_count": 6,
     "metadata": {},
     "output_type": "execute_result"
    }
   ],
   "source": [
    "qc.qubits()"
   ]
  },
  {
   "cell_type": "markdown",
   "metadata": {},
   "source": [
    "### Sampling with run_and_measure"
   ]
  },
  {
   "cell_type": "code",
   "execution_count": 7,
   "metadata": {},
   "outputs": [
    {
     "data": {
      "text/plain": [
       "{0: array([1, 0, 1, 0, 1, 1, 0, 0, 0, 1]),\n",
       " 1: array([1, 0, 1, 0, 1, 1, 0, 0, 0, 1]),\n",
       " 2: array([1, 0, 1, 0, 1, 1, 0, 0, 0, 1])}"
      ]
     },
     "execution_count": 7,
     "metadata": {},
     "output_type": "execute_result"
    }
   ],
   "source": [
    "bitstrings = qc.run_and_measure(program, trials=10)\n",
    "bitstrings"
   ]
  },
  {
   "cell_type": "code",
   "execution_count": 8,
   "metadata": {},
   "outputs": [
    {
     "data": {
      "text/plain": [
       "array([3, 0, 3, 0, 3, 3, 0, 0, 0, 3])"
      ]
     },
     "execution_count": 8,
     "metadata": {},
     "output_type": "execute_result"
    }
   ],
   "source": [
    "import numpy as np\n",
    "bitstring_array = np.vstack(bitstrings[q] for q in qc.qubits()).T\n",
    "sums = np.sum(bitstring_array, axis=1)\n",
    "sums\n"
   ]
  },
  {
   "cell_type": "code",
   "execution_count": 9,
   "metadata": {},
   "outputs": [
    {
     "data": {
      "text/plain": [
       "array([ True,  True,  True,  True,  True,  True,  True,  True,  True,  True], dtype=bool)"
      ]
     },
     "execution_count": 9,
     "metadata": {},
     "output_type": "execute_result"
    }
   ],
   "source": [
    "sample_is_ghz = np.logical_or(sums == 0, sums == 3)\n",
    "sample_is_ghz"
   ]
  },
  {
   "cell_type": "code",
   "execution_count": 10,
   "metadata": {},
   "outputs": [
    {
     "data": {
      "text/plain": [
       "True"
      ]
     },
     "execution_count": 10,
     "metadata": {},
     "output_type": "execute_result"
    }
   ],
   "source": [
    "np.all(sample_is_ghz)"
   ]
  },
  {
   "cell_type": "markdown",
   "metadata": {},
   "source": [
    "#### All qubits are measured by run_and_measure scheme"
   ]
  },
  {
   "cell_type": "code",
   "execution_count": 11,
   "metadata": {},
   "outputs": [
    {
     "data": {
      "text/plain": [
       "{0: array([1, 1, 1, 1, 1, 1, 1, 1, 1, 1]),\n",
       " 1: array([1, 1, 1, 1, 1, 1, 1, 1, 1, 1]),\n",
       " 2: array([1, 1, 1, 1, 1, 1, 1, 1, 1, 1]),\n",
       " 3: array([0, 0, 0, 0, 0, 0, 0, 0, 0, 0])}"
      ]
     },
     "execution_count": 11,
     "metadata": {},
     "output_type": "execute_result"
    }
   ],
   "source": [
    "qc = get_qc('4q-qvm')\n",
    "bitstrings = qc.run_and_measure(Program(X(0), X(1), X(2)), trials=10)\n",
    "bitstrings"
   ]
  },
  {
   "cell_type": "code",
   "execution_count": 12,
   "metadata": {},
   "outputs": [
    {
     "data": {
      "text/plain": [
       "array([[1, 1, 1, 0],\n",
       "       [1, 1, 1, 0],\n",
       "       [1, 1, 1, 0],\n",
       "       [1, 1, 1, 0],\n",
       "       [1, 1, 1, 0],\n",
       "       [1, 1, 1, 0],\n",
       "       [1, 1, 1, 0],\n",
       "       [1, 1, 1, 0],\n",
       "       [1, 1, 1, 0],\n",
       "       [1, 1, 1, 0]])"
      ]
     },
     "execution_count": 12,
     "metadata": {},
     "output_type": "execute_result"
    }
   ],
   "source": [
    "# Stacking everything\n",
    "np.vstack(bitstrings[q] for q in qc.qubits()).T"
   ]
  },
  {
   "cell_type": "code",
   "execution_count": 13,
   "metadata": {},
   "outputs": [
    {
     "data": {
      "text/plain": [
       "array([[1, 1, 1],\n",
       "       [1, 1, 1],\n",
       "       [1, 1, 1],\n",
       "       [1, 1, 1],\n",
       "       [1, 1, 1],\n",
       "       [1, 1, 1],\n",
       "       [1, 1, 1],\n",
       "       [1, 1, 1],\n",
       "       [1, 1, 1],\n",
       "       [1, 1, 1]])"
      ]
     },
     "execution_count": 13,
     "metadata": {},
     "output_type": "execute_result"
    }
   ],
   "source": [
    "# Stacking what you want (contrast with above)\n",
    "qubits = [0, 1, 2]\n",
    "np.vstack(bitstrings[q] for q in qubits).T"
   ]
  },
  {
   "cell_type": "markdown",
   "metadata": {},
   "source": [
    "### List quantum computers"
   ]
  },
  {
   "cell_type": "code",
   "execution_count": 14,
   "metadata": {},
   "outputs": [
    {
     "data": {
      "text/plain": [
       "['Aspen-3-14Q-A',\n",
       " 'Aspen-3-4Q-B',\n",
       " 'Aspen-3-2Q-C',\n",
       " 'Aspen-3-3Q-B',\n",
       " 'Aspen-3-4Q-F',\n",
       " 'Aspen-3-5Q-B',\n",
       " 'Aspen-3-6Q-B',\n",
       " 'Aspen-3-7Q-B',\n",
       " 'Aspen-3-8Q-B',\n",
       " 'Aspen-3-9Q-B',\n",
       " 'Aspen-3-10Q-B',\n",
       " 'Aspen-4-2Q-A',\n",
       " 'Aspen-4-3Q-A',\n",
       " 'Aspen-4-4Q-A',\n",
       " 'Aspen-4-5Q-A',\n",
       " 'Aspen-4-6Q-A',\n",
       " 'Aspen-4-7Q-A',\n",
       " 'Aspen-4-8Q-A',\n",
       " 'Aspen-4-9Q-A',\n",
       " 'Aspen-4-10Q-A',\n",
       " 'Aspen-4-11Q-A',\n",
       " 'Aspen-4-12Q-A',\n",
       " 'Aspen-4-13Q-A',\n",
       " 'Aspen-4-14Q-B',\n",
       " '9q-square-qvm',\n",
       " '9q-square-noisy-qvm']"
      ]
     },
     "execution_count": 14,
     "metadata": {},
     "output_type": "execute_result"
    }
   ],
   "source": [
    "from pyquil import list_quantum_computers\n",
    "# TODO: unauthenticated endpoint\n",
    "list_quantum_computers()\n"
   ]
  },
  {
   "cell_type": "markdown",
   "metadata": {},
   "source": [
    "### Working with noise models"
   ]
  },
  {
   "cell_type": "code",
   "execution_count": 15,
   "metadata": {},
   "outputs": [
    {
     "data": {
      "text/plain": [
       "{0: array([0, 0, 0, 0, 1, 0, 0, 1, 0, 1]),\n",
       " 1: array([0, 0, 0, 0, 1, 0, 0, 1, 1, 1]),\n",
       " 2: array([0, 0, 0, 0, 1, 0, 0, 1, 1, 1])}"
      ]
     },
     "execution_count": 15,
     "metadata": {},
     "output_type": "execute_result"
    }
   ],
   "source": [
    "qc = get_qc('3q-noisy-qvm')\n",
    "bitstrings = qc.run_and_measure(program, trials=10)\n",
    "bitstrings"
   ]
  },
  {
   "cell_type": "code",
   "execution_count": 16,
   "metadata": {},
   "outputs": [
    {
     "data": {
      "text/plain": [
       "array([0, 0, 0, 0, 3, 0, 0, 3, 2, 3])"
      ]
     },
     "execution_count": 16,
     "metadata": {},
     "output_type": "execute_result"
    }
   ],
   "source": [
    "bitstring_array = np.vstack(bitstrings[q] for q in qc.qubits()).T\n",
    "sums = np.sum(bitstring_array, axis=1)\n",
    "sums"
   ]
  },
  {
   "cell_type": "code",
   "execution_count": 17,
   "metadata": {},
   "outputs": [
    {
     "data": {
      "text/plain": [
       "False"
      ]
     },
     "execution_count": 17,
     "metadata": {},
     "output_type": "execute_result"
    }
   ],
   "source": [
    "# Noise means now we measure things other than 000 or 111\n",
    "np.all(np.logical_or(sums == 0, sums == 3))"
   ]
  },
  {
   "cell_type": "markdown",
   "metadata": {},
   "source": [
    "### Topology of the quantum computer"
   ]
  },
  {
   "cell_type": "code",
   "execution_count": 18,
   "metadata": {},
   "outputs": [
    {
     "name": "stderr",
     "output_type": "stream",
     "text": [
      "/home/kishor/anaconda3/lib/python3.6/site-packages/networkx/drawing/nx_pylab.py:611: MatplotlibDeprecationWarning: isinstance(..., numbers.Number)\n",
      "  if cb.is_numlike(alpha):\n"
     ]
    },
    {
     "data": {
      "image/png": "[encoded data removed]",
      "text/plain": [
       "<Figure size 432x288 with 1 Axes>"
      ]
     },
     "metadata": {},
     "output_type": "display_data"
    }
   ],
   "source": [
    "qc = get_qc('9q-square-qvm')\n",
    "%matplotlib inline\n",
    "import networkx as nx\n",
    "nx.draw(qc.qubit_topology())\n",
    "from matplotlib import pyplot as plt\n",
    "_ = plt.title('9q-square-qvm', fontsize=18)"
   ]
  },
  {
   "cell_type": "markdown",
   "metadata": {},
   "source": [
    "#### Defining arbitrary topology"
   ]
  },
  {
   "cell_type": "code",
   "execution_count": 19,
   "metadata": {},
   "outputs": [
    {
     "data": {
      "image/png": "[encoded data removed]",
      "text/plain": [
       "<Figure size 432x288 with 1 Axes>"
      ]
     },
     "metadata": {},
     "output_type": "display_data"
    }
   ],
   "source": [
    "topology = nx.from_edgelist([\n",
    "    (10, 2),\n",
    "    (10, 4),\n",
    "    (10, 6),\n",
    "    (10, 8),\n",
    "])\n",
    "from pyquil.device import NxDevice\n",
    "device = NxDevice(topology)\n",
    "\n",
    "from pyquil.api._qac import AbstractCompiler\n",
    "class MyLazyCompiler(AbstractCompiler):\n",
    "    def quil_to_native_quil(self, program):\n",
    "        return program\n",
    "\n",
    "    def native_quil_to_executable(self, nq_program):\n",
    "        return nq_program\n",
    "\n",
    "\n",
    "from pyquil.api import QuantumComputer, QVM, ForestConnection\n",
    "my_qc = QuantumComputer(\n",
    "    name='my-qvm',\n",
    "    qam=QVM(connection=ForestConnection()),\n",
    "    device=device,\n",
    "    compiler=MyLazyCompiler(),\n",
    ")\n",
    "\n",
    "nx.draw(my_qc.qubit_topology())\n"
   ]
  },
  {
   "cell_type": "code",
   "execution_count": 20,
   "metadata": {},
   "outputs": [
    {
     "data": {
      "text/plain": [
       "{2: array([0, 0, 0, 0, 0]),\n",
       " 4: array([0, 0, 0, 0, 0]),\n",
       " 6: array([0, 0, 0, 0, 0]),\n",
       " 8: array([0, 0, 0, 0, 0]),\n",
       " 10: array([1, 1, 1, 1, 1])}"
      ]
     },
     "execution_count": 20,
     "metadata": {},
     "output_type": "execute_result"
    }
   ],
   "source": [
    "my_qc.run_and_measure(Program(X(10)), trials=5)"
   ]
  },
  {
   "cell_type": "code",
   "execution_count": null,
   "metadata": {},
   "outputs": [],
   "source": []
  }
 ],
 "metadata": {
  "kernelspec": {
   "display_name": "Python 3",
   "language": "python",
   "name": "python3"
  },
  "language_info": {
   "codemirror_mode": {
    "name": "ipython",
    "version": 3
   },
   "file_extension": ".py",
   "mimetype": "text/x-python",
   "name": "python",
   "nbconvert_exporter": "python",
   "pygments_lexer": "ipython3",
   "version": "3.6.7"
  }
 },
 "nbformat": 4,
 "nbformat_minor": 2
}
